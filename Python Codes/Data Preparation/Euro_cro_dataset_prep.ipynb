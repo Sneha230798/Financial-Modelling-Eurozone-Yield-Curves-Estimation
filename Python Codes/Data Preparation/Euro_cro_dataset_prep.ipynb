{
 "cells": [
  {
   "cell_type": "code",
   "execution_count": 2,
   "metadata": {},
   "outputs": [],
   "source": [
    "import pandas as pd\n",
    "import numpy as np"
   ]
  },
  {
   "cell_type": "code",
   "execution_count": 52,
   "metadata": {},
   "outputs": [],
   "source": [
    "df1 = pd.read_excel(\"C:/Users/defaultuser0/Desktop/Sneha_thesis/excel_files/Cor_Coupon_Dates/Austria.xlsx\")\n",
    "df2 = pd.read_excel(\"C:/Users/defaultuser0/Desktop/Sneha_thesis/excel_files/Cor_Coupon_Dates/Belgium.xlsx\")\n",
    "#df3 = pd.read_excel(\"C:/Users/defaultuser0/Desktop/Sneha_thesis/excel_files/Cor_Coupon_Dates/Croatia.xlsx\")\n",
    "#df4 = pd.read_excel(\"C:/Users/defaultuser0/Desktop/Sneha_thesis/excel_files/Cor_Coupon_Dates/Cyprus.xlsx\")\n",
    "#df5 = pd.read_excel(\"C:/Users/defaultuser0/Desktop/Sneha_thesis/excel_files/Cor_Coupon_Dates/Estonia.xlsx\")\n",
    "\n",
    "df6 = pd.read_excel(\"C:/Users/defaultuser0/Desktop/Sneha_thesis/excel_files/Cor_Coupon_Dates/Finland.xlsx\")\n",
    "df7 = pd.read_excel(\"C:/Users/defaultuser0/Desktop/Sneha_thesis/excel_files/Cor_Coupon_Dates/France.xlsx\")\n",
    "df8 = pd.read_excel(\"C:/Users/defaultuser0/Desktop/Sneha_thesis/excel_files/Cor_Coupon_Dates/Germany.xlsx\")\n",
    "df9 = pd.read_excel(\"C:/Users/defaultuser0/Desktop/Sneha_thesis/excel_files/Cor_Coupon_Dates/Greece.xlsx\")\n",
    "df10 = pd.read_excel(\"C:/Users/defaultuser0/Desktop/Sneha_thesis/excel_files/Cor_Coupon_Dates/Ireland.xlsx\")\n",
    "\n",
    "df11 = pd.read_excel(\"C:/Users/defaultuser0/Desktop/Sneha_thesis/excel_files/Cor_Coupon_Dates/Italy.xlsx\")\n",
    "df12 = pd.read_excel(\"C:/Users/defaultuser0/Desktop/Sneha_thesis/excel_files/Cor_Coupon_Dates/Latvia.xlsx\")\n",
    "#df13 = pd.read_excel(\"C:/Users/defaultuser0/Desktop/Sneha_thesis/excel_files/Cor_Coupon_Dates/Lithuania.xlsx\")\n",
    "#df14 = pd.read_excel(\"C:/Users/defaultuser0/Desktop/Sneha_thesis/excel_files/Cor_Coupon_Dates/Luxembourg.xlsx\")\n",
    "#df15 = pd.read_excel(\"C:/Users/defaultuser0/Desktop/Sneha_thesis/excel_files/Cor_Coupon_Dates/Malta.xlsx\")\n",
    "\n",
    "df16 = pd.read_excel(\"C:/Users/defaultuser0/Desktop/Sneha_thesis/excel_files/Cor_Coupon_Dates/Netherlands.xlsx\")\n",
    "df17 = pd.read_excel(\"C:/Users/defaultuser0/Desktop/Sneha_thesis/excel_files/Cor_Coupon_Dates/Portugal.xlsx\")\n",
    "#df18 = pd.read_excel(\"C:/Users/defaultuser0/Desktop/Sneha_thesis/excel_files/Cor_Coupon_Dates/Slovakia.xlsx\")\n",
    "#df19 = pd.read_excel(\"C:/Users/defaultuser0/Desktop/Sneha_thesis/excel_files/Cor_Coupon_Dates/Slovenia.xlsx\")\n",
    "df20 = pd.read_excel(\"C:/Users/defaultuser0/Desktop/Sneha_thesis/excel_files/Cor_Coupon_Dates/Spain.xlsx\")"
   ]
  },
  {
   "cell_type": "code",
   "execution_count": 51,
   "metadata": {},
   "outputs": [],
   "source": [
    "df2 = df2.iloc[:, 1:]\n",
    "\n",
    "df6 = df6.iloc[:, 1:]\n",
    "\n",
    "df7 = df7.iloc[:, 1:]\n",
    "df8 = df8.iloc[:, 1:]\n",
    "df9 = df9.iloc[:, 1:]\n",
    "df10 = df10.iloc[:, 1:]\n",
    "df11 = df11.iloc[:, 1:]\n",
    "\n",
    "df12 = df12.iloc[:, 1:]\n",
    "\n",
    "\n",
    "df16 = df16.iloc[:, 1:]\n",
    "\n",
    "df17 = df17.iloc[:, 1:]\n",
    "\n",
    "df20 = df20.iloc[:, 1:]\n"
   ]
  },
  {
   "cell_type": "code",
   "execution_count": 53,
   "metadata": {},
   "outputs": [],
   "source": [
    "dfs = [df1, df2, df6, df7, df8, df9, df10, df11, df12, df16, df17,  df20]\n",
    "\n",
    "# Use pd.concat to merge them side by side (along the columns)\n",
    "df = pd.concat(dfs, axis=1)\n"
   ]
  },
  {
   "cell_type": "code",
   "execution_count": 55,
   "metadata": {},
   "outputs": [],
   "source": [
    "df.to_excel(f\"C:/Users/defaultuser0/Desktop/Sneha_thesis/excel_files/All Euro/Corporate/Coupon_Dates.xlsx\", index = False)"
   ]
  },
  {
   "cell_type": "code",
   "execution_count": 57,
   "metadata": {},
   "outputs": [
    {
     "data": {
      "text/html": [
       "<div>\n",
       "<style scoped>\n",
       "    .dataframe tbody tr th:only-of-type {\n",
       "        vertical-align: middle;\n",
       "    }\n",
       "\n",
       "    .dataframe tbody tr th {\n",
       "        vertical-align: top;\n",
       "    }\n",
       "\n",
       "    .dataframe thead th {\n",
       "        text-align: right;\n",
       "    }\n",
       "</style>\n",
       "<table border=\"1\" class=\"dataframe\">\n",
       "  <thead>\n",
       "    <tr style=\"text-align: right;\">\n",
       "      <th></th>\n",
       "      <th>8019EA</th>\n",
       "      <th>224R2D</th>\n",
       "      <th>2497Y2</th>\n",
       "      <th>225CVC</th>\n",
       "      <th>661FRQ</th>\n",
       "    </tr>\n",
       "  </thead>\n",
       "  <tbody>\n",
       "    <tr>\n",
       "      <th>0</th>\n",
       "      <td>41376</td>\n",
       "      <td>43753.0</td>\n",
       "      <td>43936.0</td>\n",
       "      <td>43748.0</td>\n",
       "      <td>44699</td>\n",
       "    </tr>\n",
       "    <tr>\n",
       "      <th>1</th>\n",
       "      <td>42106</td>\n",
       "      <td>44484.0</td>\n",
       "      <td>44666.0</td>\n",
       "      <td>44479.0</td>\n",
       "      <td>45430</td>\n",
       "    </tr>\n",
       "    <tr>\n",
       "      <th>2</th>\n",
       "      <td>42837</td>\n",
       "      <td>45214.0</td>\n",
       "      <td>45397.0</td>\n",
       "      <td>45209.0</td>\n",
       "      <td>46160</td>\n",
       "    </tr>\n",
       "    <tr>\n",
       "      <th>3</th>\n",
       "      <td>43567</td>\n",
       "      <td>45945.0</td>\n",
       "      <td>46127.0</td>\n",
       "      <td>45940.0</td>\n",
       "      <td>46891</td>\n",
       "    </tr>\n",
       "    <tr>\n",
       "      <th>4</th>\n",
       "      <td>44298</td>\n",
       "      <td>46310.0</td>\n",
       "      <td>46310.0</td>\n",
       "      <td>46305.0</td>\n",
       "      <td>47621</td>\n",
       "    </tr>\n",
       "    <tr>\n",
       "      <th>5</th>\n",
       "      <td>44663</td>\n",
       "      <td>46492.0</td>\n",
       "      <td>46492.0</td>\n",
       "      <td>46487.0</td>\n",
       "      <td>47986</td>\n",
       "    </tr>\n",
       "    <tr>\n",
       "      <th>6</th>\n",
       "      <td>44846</td>\n",
       "      <td>NaN</td>\n",
       "      <td>NaN</td>\n",
       "      <td>NaN</td>\n",
       "      <td>48170</td>\n",
       "    </tr>\n",
       "  </tbody>\n",
       "</table>\n",
       "</div>"
      ],
      "text/plain": [
       "   8019EA   224R2D   2497Y2   225CVC  661FRQ\n",
       "0   41376  43753.0  43936.0  43748.0   44699\n",
       "1   42106  44484.0  44666.0  44479.0   45430\n",
       "2   42837  45214.0  45397.0  45209.0   46160\n",
       "3   43567  45945.0  46127.0  45940.0   46891\n",
       "4   44298  46310.0  46310.0  46305.0   47621\n",
       "5   44663  46492.0  46492.0  46487.0   47986\n",
       "6   44846      NaN      NaN      NaN   48170"
      ]
     },
     "execution_count": 57,
     "metadata": {},
     "output_type": "execute_result"
    }
   ],
   "source": [
    "df20"
   ]
  },
  {
   "cell_type": "code",
   "execution_count": null,
   "metadata": {},
   "outputs": [],
   "source": []
  }
 ],
 "metadata": {
  "kernelspec": {
   "display_name": "base",
   "language": "python",
   "name": "python3"
  },
  "language_info": {
   "codemirror_mode": {
    "name": "ipython",
    "version": 3
   },
   "file_extension": ".py",
   "mimetype": "text/x-python",
   "name": "python",
   "nbconvert_exporter": "python",
   "pygments_lexer": "ipython3",
   "version": "3.11.7"
  }
 },
 "nbformat": 4,
 "nbformat_minor": 2
}
