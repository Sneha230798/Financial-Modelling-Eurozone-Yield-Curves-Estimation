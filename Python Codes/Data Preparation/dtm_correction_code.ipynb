{
 "cells": [
  {
   "cell_type": "code",
   "execution_count": 9,
   "metadata": {},
   "outputs": [],
   "source": [
    "import pandas as pd\n",
    "import numpy as np"
   ]
  },
  {
   "cell_type": "code",
   "execution_count": 12,
   "metadata": {},
   "outputs": [],
   "source": [
    "country = 'Italy'\n",
    "country2 = 'Italy'"
   ]
  },
  {
   "cell_type": "code",
   "execution_count": 14,
   "metadata": {},
   "outputs": [],
   "source": [
    "df= pd.read_excel(f\"C:/Users/defaultuser0/Desktop/Sneha_Thesis/excel_files/Cor_DTM/{country}_cor_dtm.xlsx\")"
   ]
  },
  {
   "cell_type": "code",
   "execution_count": 15,
   "metadata": {},
   "outputs": [],
   "source": [
    "df = df.replace(0, np.nan)"
   ]
  },
  {
   "cell_type": "code",
   "execution_count": 16,
   "metadata": {},
   "outputs": [
    {
     "name": "stdout",
     "output_type": "stream",
     "text": [
      "           Code  786Y60(GP)  6454AC(GP)  6340F3(GP)  49106U(GP)  242APD(GP)  \\\n",
      "0    2010-01-01       12365        6376        7384       16511        5281   \n",
      "1    2010-01-02       12364        6375        7383       16510        5280   \n",
      "2    2010-01-03       12363        6374        7382       16509        5279   \n",
      "3    2010-01-04       12362        6373        7381       16508        5278   \n",
      "4    2010-01-05       12361        6372        7380       16507        5277   \n",
      "...         ...         ...         ...         ...         ...         ...   \n",
      "5078 2023-11-27        7287        1298        2306       11433         203   \n",
      "5079 2023-11-28        7286        1297        2305       11432         202   \n",
      "5080 2023-11-29        7285        1296        2304       11431         201   \n",
      "5081 2023-11-30        7284        1295        2303       11430         200   \n",
      "5082 2023-12-01        7283        1294        2302       11429         199   \n",
      "\n",
      "      6454AJ(GP)  629XC1(GP)  656FYD(GP)  611W2H(GP)  ...  783HAH(GP)  \\\n",
      "0           7472        6957        5991        5851  ...         NaN   \n",
      "1           7471        6956        5990        5850  ...         NaN   \n",
      "2           7470        6955        5989        5849  ...         NaN   \n",
      "3           7469        6954        5988        5848  ...         NaN   \n",
      "4           7468        6953        5987        5847  ...         NaN   \n",
      "...          ...         ...         ...         ...  ...         ...   \n",
      "5078        2394        1879         913         773  ...         NaN   \n",
      "5079        2393        1878         912         772  ...         NaN   \n",
      "5080        2392        1877         911         771  ...         NaN   \n",
      "5081        2391        1876         910         770  ...         NaN   \n",
      "5082        2390        1875         909         769  ...         NaN   \n",
      "\n",
      "      8615PY(GP)  7926Q5(GP)  842A1A(GP)  242APF(GP)  242APE(GP)  5558CV(GP)  \\\n",
      "0            NaN         NaN         NaN         NaN         NaN         NaN   \n",
      "1            NaN         NaN         NaN         NaN         NaN         NaN   \n",
      "2            NaN         NaN         NaN         NaN         NaN         NaN   \n",
      "3            NaN         NaN         NaN         NaN         NaN         NaN   \n",
      "4            NaN         NaN         NaN         NaN         NaN         NaN   \n",
      "...          ...         ...         ...         ...         ...         ...   \n",
      "5078       513.0      3101.0         NaN      3977.0      1298.0         NaN   \n",
      "5079       512.0      3100.0         NaN      3976.0      1297.0         NaN   \n",
      "5080       511.0      3099.0         NaN      3975.0      1296.0         NaN   \n",
      "5081       510.0      3098.0         NaN      3974.0      1295.0         NaN   \n",
      "5082       509.0      3097.0         NaN      3973.0      1294.0         NaN   \n",
      "\n",
      "      850A6P(GP)  836F93(GP)  856R3F(GP)  \n",
      "0            NaN         NaN         NaN  \n",
      "1            NaN         NaN         NaN  \n",
      "2            NaN         NaN         NaN  \n",
      "3            NaN         NaN         NaN  \n",
      "4            NaN         NaN         NaN  \n",
      "...          ...         ...         ...  \n",
      "5078       193.0       673.0      1415.0  \n",
      "5079       192.0       672.0      1414.0  \n",
      "5080       191.0       671.0      1413.0  \n",
      "5081       190.0       670.0      1412.0  \n",
      "5082       189.0       669.0      1411.0  \n",
      "\n",
      "[5083 rows x 151 columns]\n"
     ]
    }
   ],
   "source": [
    "for col in df.columns:\n",
    "    # Loop through the rows of the current column\n",
    "    for i in range(1, len(df) - 1):  # Start from 1 to ensure we can check both previous and next rows\n",
    "        # First condition: If the difference between the current number and the subsequent number is -1\n",
    "        if df[col].iloc[i] - df[col].iloc[i + 1] == -1:\n",
    "            # Set all subsequent values in that column to NaN\n",
    "            df.loc[i:, col] = np.nan\n",
    "\n",
    "            break\n",
    "            \n",
    "        # Second condition: If the difference between the current number and the previous number is 1,\n",
    "        # and the difference between the current number and the next number is -1,\n",
    "        # and the current value is NaN\n",
    "        if (df[col].iloc[i - 1] == 1) and  pd.isna(df[col].iloc[i]):\n",
    "            # Set the current value to 0\n",
    "            df.at[i, col] = 0\n",
    "\n",
    "\n",
    "print(df)"
   ]
  },
  {
   "cell_type": "code",
   "execution_count": 17,
   "metadata": {},
   "outputs": [],
   "source": [
    "df.to_excel(f\"C:/Users/defaultuser0/Downloads/{country}_cor_dtm.xlsx\", index = False)"
   ]
  },
  {
   "cell_type": "code",
   "execution_count": null,
   "metadata": {},
   "outputs": [],
   "source": []
  },
  {
   "cell_type": "code",
   "execution_count": null,
   "metadata": {},
   "outputs": [],
   "source": []
  },
  {
   "cell_type": "code",
   "execution_count": null,
   "metadata": {},
   "outputs": [],
   "source": []
  },
  {
   "cell_type": "code",
   "execution_count": null,
   "metadata": {},
   "outputs": [],
   "source": []
  },
  {
   "cell_type": "code",
   "execution_count": null,
   "metadata": {},
   "outputs": [],
   "source": []
  },
  {
   "cell_type": "code",
   "execution_count": null,
   "metadata": {},
   "outputs": [],
   "source": []
  },
  {
   "cell_type": "code",
   "execution_count": null,
   "metadata": {},
   "outputs": [],
   "source": []
  },
  {
   "cell_type": "code",
   "execution_count": null,
   "metadata": {},
   "outputs": [],
   "source": []
  },
  {
   "cell_type": "code",
   "execution_count": null,
   "metadata": {},
   "outputs": [],
   "source": []
  },
  {
   "cell_type": "code",
   "execution_count": null,
   "metadata": {},
   "outputs": [],
   "source": []
  },
  {
   "cell_type": "code",
   "execution_count": null,
   "metadata": {},
   "outputs": [],
   "source": []
  },
  {
   "cell_type": "code",
   "execution_count": null,
   "metadata": {},
   "outputs": [],
   "source": []
  },
  {
   "cell_type": "code",
   "execution_count": null,
   "metadata": {},
   "outputs": [],
   "source": []
  },
  {
   "cell_type": "code",
   "execution_count": null,
   "metadata": {},
   "outputs": [],
   "source": []
  },
  {
   "cell_type": "code",
   "execution_count": null,
   "metadata": {},
   "outputs": [],
   "source": []
  },
  {
   "cell_type": "code",
   "execution_count": null,
   "metadata": {},
   "outputs": [],
   "source": []
  },
  {
   "cell_type": "code",
   "execution_count": null,
   "metadata": {},
   "outputs": [],
   "source": []
  },
  {
   "cell_type": "code",
   "execution_count": null,
   "metadata": {},
   "outputs": [],
   "source": []
  },
  {
   "cell_type": "code",
   "execution_count": null,
   "metadata": {},
   "outputs": [],
   "source": []
  },
  {
   "cell_type": "code",
   "execution_count": null,
   "metadata": {},
   "outputs": [],
   "source": []
  },
  {
   "cell_type": "code",
   "execution_count": null,
   "metadata": {},
   "outputs": [],
   "source": []
  },
  {
   "cell_type": "code",
   "execution_count": null,
   "metadata": {},
   "outputs": [],
   "source": []
  },
  {
   "cell_type": "code",
   "execution_count": null,
   "metadata": {},
   "outputs": [],
   "source": []
  },
  {
   "cell_type": "code",
   "execution_count": null,
   "metadata": {},
   "outputs": [],
   "source": []
  },
  {
   "cell_type": "code",
   "execution_count": null,
   "metadata": {},
   "outputs": [],
   "source": []
  },
  {
   "cell_type": "code",
   "execution_count": null,
   "metadata": {},
   "outputs": [],
   "source": []
  },
  {
   "cell_type": "code",
   "execution_count": null,
   "metadata": {},
   "outputs": [],
   "source": []
  },
  {
   "cell_type": "code",
   "execution_count": null,
   "metadata": {},
   "outputs": [],
   "source": []
  },
  {
   "cell_type": "code",
   "execution_count": null,
   "metadata": {},
   "outputs": [],
   "source": []
  },
  {
   "cell_type": "code",
   "execution_count": null,
   "metadata": {},
   "outputs": [],
   "source": []
  },
  {
   "cell_type": "code",
   "execution_count": null,
   "metadata": {},
   "outputs": [],
   "source": []
  },
  {
   "cell_type": "code",
   "execution_count": null,
   "metadata": {},
   "outputs": [],
   "source": []
  },
  {
   "cell_type": "code",
   "execution_count": null,
   "metadata": {},
   "outputs": [],
   "source": []
  },
  {
   "cell_type": "code",
   "execution_count": null,
   "metadata": {},
   "outputs": [],
   "source": []
  }
 ],
 "metadata": {
  "kernelspec": {
   "display_name": "base",
   "language": "python",
   "name": "python3"
  },
  "language_info": {
   "codemirror_mode": {
    "name": "ipython",
    "version": 3
   },
   "file_extension": ".py",
   "mimetype": "text/x-python",
   "name": "python",
   "nbconvert_exporter": "python",
   "pygments_lexer": "ipython3",
   "version": "3.11.7"
  }
 },
 "nbformat": 4,
 "nbformat_minor": 2
}
